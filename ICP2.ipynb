{
  "nbformat": 4,
  "nbformat_minor": 0,
  "metadata": {
    "colab": {
      "name": "ICP2.ipynb",
      "provenance": [],
      "toc_visible": true,
      "authorship_tag": "ABX9TyNK1NMXdYq085TvfHOnRgzW",
      "include_colab_link": true
    },
    "kernelspec": {
      "name": "python3",
      "display_name": "Python 3"
    }
  },
  "cells": [
    {
      "cell_type": "markdown",
      "metadata": {
        "id": "view-in-github",
        "colab_type": "text"
      },
      "source": [
        "<a href=\"https://colab.research.google.com/github/Yousefalmutairi91/KDM_ICP2/blob/main/ICP2.ipynb\" target=\"_parent\"><img src=\"https://colab.research.google.com/assets/colab-badge.svg\" alt=\"Open In Colab\"/></a>"
      ]
    },
    {
      "cell_type": "code",
      "metadata": {
        "colab": {
          "base_uri": "https://localhost:8080/"
        },
        "id": "p5m8HxncB-ra",
        "outputId": "ed7f8a6b-e8a9-4945-f4ae-1223e6c0bf95"
      },
      "source": [
        "import os\n",
        "import nltk\n",
        "from nltk import parse, pos_tag, word_tokenize, ne_chunk, WordNetLemmatizer\n",
        "from nltk.tokenize import sent_tokenize\n",
        "from textblob import Word\n",
        "from textblob import TextBlob\n",
        "!pip install -U textblob\n",
        "!python -m textblob.download_corpora"
      ],
      "execution_count": 202,
      "outputs": [
        {
          "output_type": "stream",
          "text": [
            "Requirement already up-to-date: textblob in /usr/local/lib/python3.6/dist-packages (0.15.3)\n",
            "Requirement already satisfied, skipping upgrade: nltk>=3.1 in /usr/local/lib/python3.6/dist-packages (from textblob) (3.2.5)\n",
            "Requirement already satisfied, skipping upgrade: six in /usr/local/lib/python3.6/dist-packages (from nltk>=3.1->textblob) (1.15.0)\n",
            "[nltk_data] Downloading package brown to /root/nltk_data...\n",
            "[nltk_data]   Package brown is already up-to-date!\n",
            "[nltk_data] Downloading package punkt to /root/nltk_data...\n",
            "[nltk_data]   Package punkt is already up-to-date!\n",
            "[nltk_data] Downloading package wordnet to /root/nltk_data...\n",
            "[nltk_data]   Package wordnet is already up-to-date!\n",
            "[nltk_data] Downloading package averaged_perceptron_tagger to\n",
            "[nltk_data]     /root/nltk_data...\n",
            "[nltk_data]   Package averaged_perceptron_tagger is already up-to-\n",
            "[nltk_data]       date!\n",
            "[nltk_data] Downloading package conll2000 to /root/nltk_data...\n",
            "[nltk_data]   Package conll2000 is already up-to-date!\n",
            "[nltk_data] Downloading package movie_reviews to /root/nltk_data...\n",
            "[nltk_data]   Package movie_reviews is already up-to-date!\n",
            "Finished.\n"
          ],
          "name": "stdout"
        }
      ]
    },
    {
      "cell_type": "code",
      "metadata": {
        "colab": {
          "base_uri": "https://localhost:8080/"
        },
        "id": "uWQkwA9dCJF2",
        "outputId": "ded57a63-70ca-48a6-f33c-a5dc8f53950a"
      },
      "source": [
        "text = \"Xi Jinping is a Chinese politician who has served as General Secretary of the Chinese Communist Party (CCP) and Chairman of the Central Military Commission (CMC) since 2012, and President of the People's Republic of China (PRC) since 2013. He has been the paramount leader of China, the most prominent political leader in the country, since 2012. The son of Chinese Communist veteran Xi Zhongxun, he was exiled to rural Yanchuan County as a teenager following his father's purge during the Cultural Revolutionandlived in a cave in the village of Liangjiahe, where he joined the CCP and worked as the party secretary.\"\n",
        "\n",
        "text_words = nltk.word_tokenize(text)\n",
        "text_words\n"
      ],
      "execution_count": 176,
      "outputs": [
        {
          "output_type": "execute_result",
          "data": {
            "text/plain": [
              "['Xi',\n",
              " 'Jinping',\n",
              " 'is',\n",
              " 'a',\n",
              " 'Chinese',\n",
              " 'politician',\n",
              " 'who',\n",
              " 'has',\n",
              " 'served',\n",
              " 'as',\n",
              " 'General',\n",
              " 'Secretary',\n",
              " 'of',\n",
              " 'the',\n",
              " 'Chinese',\n",
              " 'Communist',\n",
              " 'Party',\n",
              " '(',\n",
              " 'CCP',\n",
              " ')',\n",
              " 'and',\n",
              " 'Chairman',\n",
              " 'of',\n",
              " 'the',\n",
              " 'Central',\n",
              " 'Military',\n",
              " 'Commission',\n",
              " '(',\n",
              " 'CMC',\n",
              " ')',\n",
              " 'since',\n",
              " '2012',\n",
              " ',',\n",
              " 'and',\n",
              " 'President',\n",
              " 'of',\n",
              " 'the',\n",
              " 'People',\n",
              " \"'s\",\n",
              " 'Republic',\n",
              " 'of',\n",
              " 'China',\n",
              " '(',\n",
              " 'PRC',\n",
              " ')',\n",
              " 'since',\n",
              " '2013',\n",
              " '.',\n",
              " 'He',\n",
              " 'has',\n",
              " 'been',\n",
              " 'the',\n",
              " 'paramount',\n",
              " 'leader',\n",
              " 'of',\n",
              " 'China',\n",
              " ',',\n",
              " 'the',\n",
              " 'most',\n",
              " 'prominent',\n",
              " 'political',\n",
              " 'leader',\n",
              " 'in',\n",
              " 'the',\n",
              " 'country',\n",
              " ',',\n",
              " 'since',\n",
              " '2012',\n",
              " '.',\n",
              " 'The',\n",
              " 'son',\n",
              " 'of',\n",
              " 'Chinese',\n",
              " 'Communist',\n",
              " 'veteran',\n",
              " 'Xi',\n",
              " 'Zhongxun',\n",
              " ',',\n",
              " 'he',\n",
              " 'was',\n",
              " 'exiled',\n",
              " 'to',\n",
              " 'rural',\n",
              " 'Yanchuan',\n",
              " 'County',\n",
              " 'as',\n",
              " 'a',\n",
              " 'teenager',\n",
              " 'following',\n",
              " 'his',\n",
              " 'father',\n",
              " \"'s\",\n",
              " 'purge',\n",
              " 'during',\n",
              " 'the',\n",
              " 'Cultural',\n",
              " 'Revolutionandlived',\n",
              " 'in',\n",
              " 'a',\n",
              " 'cave',\n",
              " 'in',\n",
              " 'the',\n",
              " 'village',\n",
              " 'of',\n",
              " 'Liangjiahe',\n",
              " ',',\n",
              " 'where',\n",
              " 'he',\n",
              " 'joined',\n",
              " 'the',\n",
              " 'CCP',\n",
              " 'and',\n",
              " 'worked',\n",
              " 'as',\n",
              " 'the',\n",
              " 'party',\n",
              " 'secretary',\n",
              " '.']"
            ]
          },
          "metadata": {
            "tags": []
          },
          "execution_count": 176
        }
      ]
    },
    {
      "cell_type": "code",
      "metadata": {
        "colab": {
          "base_uri": "https://localhost:8080/"
        },
        "id": "S6iboY8WqZPP",
        "outputId": "17075f81-a332-4bcb-d105-3aa5e06a4334"
      },
      "source": [
        "#print POS tag\n",
        "\n",
        "print(nltk.pos_tag(text_words))\n"
      ],
      "execution_count": 178,
      "outputs": [
        {
          "output_type": "stream",
          "text": [
            "[('Xi', 'NN'), ('Jinping', 'NNP'), ('is', 'VBZ'), ('a', 'DT'), ('Chinese', 'JJ'), ('politician', 'NN'), ('who', 'WP'), ('has', 'VBZ'), ('served', 'VBN'), ('as', 'IN'), ('General', 'NNP'), ('Secretary', 'NNP'), ('of', 'IN'), ('the', 'DT'), ('Chinese', 'NNP'), ('Communist', 'NNP'), ('Party', 'NNP'), ('(', '('), ('CCP', 'NNP'), (')', ')'), ('and', 'CC'), ('Chairman', 'NNP'), ('of', 'IN'), ('the', 'DT'), ('Central', 'NNP'), ('Military', 'NNP'), ('Commission', 'NNP'), ('(', '('), ('CMC', 'NNP'), (')', ')'), ('since', 'IN'), ('2012', 'CD'), (',', ','), ('and', 'CC'), ('President', 'NNP'), ('of', 'IN'), ('the', 'DT'), ('People', 'NNP'), (\"'s\", 'POS'), ('Republic', 'NNP'), ('of', 'IN'), ('China', 'NNP'), ('(', '('), ('PRC', 'NNP'), (')', ')'), ('since', 'IN'), ('2013', 'CD'), ('.', '.'), ('He', 'PRP'), ('has', 'VBZ'), ('been', 'VBN'), ('the', 'DT'), ('paramount', 'JJ'), ('leader', 'NN'), ('of', 'IN'), ('China', 'NNP'), (',', ','), ('the', 'DT'), ('most', 'RBS'), ('prominent', 'JJ'), ('political', 'JJ'), ('leader', 'NN'), ('in', 'IN'), ('the', 'DT'), ('country', 'NN'), (',', ','), ('since', 'IN'), ('2012', 'CD'), ('.', '.'), ('The', 'DT'), ('son', 'NN'), ('of', 'IN'), ('Chinese', 'JJ'), ('Communist', 'NNP'), ('veteran', 'NN'), ('Xi', 'NNP'), ('Zhongxun', 'NNP'), (',', ','), ('he', 'PRP'), ('was', 'VBD'), ('exiled', 'VBN'), ('to', 'TO'), ('rural', 'JJ'), ('Yanchuan', 'NNP'), ('County', 'NNP'), ('as', 'IN'), ('a', 'DT'), ('teenager', 'NN'), ('following', 'VBG'), ('his', 'PRP$'), ('father', 'NN'), (\"'s\", 'POS'), ('purge', 'NN'), ('during', 'IN'), ('the', 'DT'), ('Cultural', 'NNP'), ('Revolutionandlived', 'NNP'), ('in', 'IN'), ('a', 'DT'), ('cave', 'NN'), ('in', 'IN'), ('the', 'DT'), ('village', 'NN'), ('of', 'IN'), ('Liangjiahe', 'NNP'), (',', ','), ('where', 'WRB'), ('he', 'PRP'), ('joined', 'VBD'), ('the', 'DT'), ('CCP', 'NNP'), ('and', 'CC'), ('worked', 'VBD'), ('as', 'IN'), ('the', 'DT'), ('party', 'NN'), ('secretary', 'NN'), ('.', '.')]\n"
          ],
          "name": "stdout"
        }
      ]
    },
    {
      "cell_type": "code",
      "metadata": {
        "colab": {
          "base_uri": "https://localhost:8080/"
        },
        "id": "zywgc0oQCTAi",
        "outputId": "fd0501af-d466-40b2-b751-2656184df734"
      },
      "source": [
        "lemmatizer = WordNetLemmatizer()\n",
        "punctuations=\"?:!.,;()\"\n",
        "for word in text_words:\n",
        "    if word in punctuations:\n",
        "        text_words.remove(word)\n",
        "print(\"{0:20}{1:20}\".format(\"Word\", \"Lemmatization\"))\n",
        "for word in text_words:\n",
        "    print(\"{0:20}{1:20}\".format(word, lemmatizer.lemmatize(word, pos=\"v\")))"
      ],
      "execution_count": 210,
      "outputs": [
        {
          "output_type": "stream",
          "text": [
            "Word                Lemmatization       \n",
            "Xi                  Xi                  \n",
            "Jinping             Jinping             \n",
            "is                  be                  \n",
            "a                   a                   \n",
            "Chinese             Chinese             \n",
            "politician          politician          \n",
            "who                 who                 \n",
            "has                 have                \n",
            "served              serve               \n",
            "as                  as                  \n",
            "General             General             \n",
            "Secretary           Secretary           \n",
            "of                  of                  \n",
            "the                 the                 \n",
            "Chinese             Chinese             \n",
            "Communist           Communist           \n",
            "Party               Party               \n",
            "CCP                 CCP                 \n",
            "and                 and                 \n",
            "Chairman            Chairman            \n",
            "of                  of                  \n",
            "the                 the                 \n",
            "Central             Central             \n",
            "Military            Military            \n",
            "Commission          Commission          \n",
            "CMC                 CMC                 \n",
            "since               since               \n",
            "2012                2012                \n",
            "and                 and                 \n",
            "President           President           \n",
            "of                  of                  \n",
            "the                 the                 \n",
            "People              People              \n",
            "'s                  's                  \n",
            "Republic            Republic            \n",
            "of                  of                  \n",
            "China               China               \n",
            "PRC                 PRC                 \n",
            "since               since               \n",
            "2013                2013                \n",
            "He                  He                  \n",
            "has                 have                \n",
            "been                be                  \n",
            "the                 the                 \n",
            "paramount           paramount           \n",
            "leader              leader              \n",
            "of                  of                  \n",
            "China               China               \n",
            "the                 the                 \n",
            "most                most                \n",
            "prominent           prominent           \n",
            "political           political           \n",
            "leader              leader              \n",
            "in                  in                  \n",
            "the                 the                 \n",
            "country             country             \n",
            "since               since               \n",
            "2012                2012                \n",
            "The                 The                 \n",
            "son                 son                 \n",
            "of                  of                  \n",
            "Chinese             Chinese             \n",
            "Communist           Communist           \n",
            "veteran             veteran             \n",
            "Xi                  Xi                  \n",
            "Zhongxun            Zhongxun            \n",
            "he                  he                  \n",
            "was                 be                  \n",
            "exiled              exile               \n",
            "to                  to                  \n",
            "rural               rural               \n",
            "Yanchuan            Yanchuan            \n",
            "County              County              \n",
            "as                  as                  \n",
            "a                   a                   \n",
            "teenager            teenager            \n",
            "following           follow              \n",
            "his                 his                 \n",
            "father              father              \n",
            "'s                  's                  \n",
            "purge               purge               \n",
            "during              during              \n",
            "the                 the                 \n",
            "Cultural            Cultural            \n",
            "Revolutionandlived  Revolutionandlived  \n",
            "in                  in                  \n",
            "a                   a                   \n",
            "cave                cave                \n",
            "in                  in                  \n",
            "the                 the                 \n",
            "village             village             \n",
            "of                  of                  \n",
            "Liangjiahe          Liangjiahe          \n",
            "where               where               \n",
            "he                  he                  \n",
            "joined              join                \n",
            "the                 the                 \n",
            "CCP                 CCP                 \n",
            "and                 and                 \n",
            "worked              work                \n",
            "as                  as                  \n",
            "the                 the                 \n",
            "party               party               \n",
            "secretary           secretary           \n"
          ],
          "name": "stdout"
        }
      ]
    },
    {
      "cell_type": "code",
      "metadata": {
        "colab": {
          "base_uri": "https://localhost:8080/"
        },
        "id": "yg9EhBFfYPyi",
        "outputId": "effda2e4-43af-48d5-8c17-96e6fbadc8b2"
      },
      "source": [
        "ner = nlp(text)\n",
        "print([(y.text, y.label_) for y in ner.ents])"
      ],
      "execution_count": 183,
      "outputs": [
        {
          "output_type": "stream",
          "text": [
            "[('Xi Jinping', 'PERSON'), ('Chinese', 'NORP'), ('the Chinese Communist Party', 'ORG'), ('CCP', 'ORG'), ('the Central Military Commission', 'ORG'), ('2012', 'DATE'), (\"the People's Republic of China\", 'GPE'), ('PRC', 'GPE'), ('2013', 'DATE'), ('China', 'GPE'), ('2012', 'DATE'), ('Chinese', 'NORP'), ('Communist', 'NORP'), ('Xi Zhongxun', 'PERSON'), ('Yanchuan County', 'GPE'), ('the Cultural Revolutionandlived', 'EVENT'), ('Liangjiahe', 'GPE'), ('CCP', 'ORG')]\n"
          ],
          "name": "stdout"
        }
      ]
    },
    {
      "cell_type": "code",
      "metadata": {
        "colab": {
          "base_uri": "https://localhost:8080/"
        },
        "id": "_Kk1mYvFaDFf",
        "outputId": "98f049c0-b7c9-4591-e817-7a1196b45bdb"
      },
      "source": [
        "blob = TextBlob(text)\n",
        "blob.tags \n",
        "\n",
        "blob.noun_phrases  \n",
        "\n",
        "for text_words in blob.sentences:\n",
        "    print(text_words.sentiment.polarity)"
      ],
      "execution_count": 172,
      "outputs": [
        {
          "output_type": "stream",
          "text": [
            "-0.009999999999999998\n",
            "0.3333333333333333\n",
            "0.02\n"
          ],
          "name": "stdout"
        }
      ]
    }
  ]
}